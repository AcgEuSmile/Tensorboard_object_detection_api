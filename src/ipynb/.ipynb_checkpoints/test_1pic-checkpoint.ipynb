{
 "cells": [
  {
   "cell_type": "code",
   "execution_count": 4,
   "metadata": {},
   "outputs": [
    {
     "name": "stdout",
     "output_type": "stream",
     "text": [
      "['/opt/intel/intelpython3/lib/python36.zip', '/opt/intel/intelpython3/lib/python3.6', '/opt/intel/intelpython3/lib/python3.6/lib-dynload', '', '/root/.local/lib/python3.6/site-packages', '/opt/intel/intelpython3/lib/python3.6/site-packages', '/opt/intel/intelpython3/lib/python3.6/site-packages/pycocotools-2.0-py3.6-linux-x86_64.egg', '/opt/intel/intelpython3/lib/python3.6/site-packages/html5lib-1.0.1-py3.6.egg', '/opt/intel/intelpython3/lib/python3.6/site-packages/pip-9.0.3-py3.6.egg', '/opt/intel/intelpython3/lib/python3.6/site-packages/IPython/extensions', '/root/.ipython', '..', '..', '/workspace/yo/tensorflow_obj_detect_api/google_obj_detection/research', '/workspace/yo/tensorflow_obj_detect_api/google_obj_detection/research/slim', '/workspace/yo/tensorflow_obj_detect_api/google_obj_detection/research', '/workspace/yo/tensorflow_obj_detect_api/google_obj_detection/research/slim']\n",
      "Tue Oct 15 23:57:03 2019\n",
      "Tue Oct 15 23:57:22 2019 elapsed time: 18.271s\n"
     ]
    },
    {
     "data": {
      "text/plain": [
       "<Figure size 1296x864 with 0 Axes>"
      ]
     },
     "metadata": {},
     "output_type": "display_data"
    }
   ],
   "source": [
    "import sys\n",
    "sys.path.append('/workspace/yo/tensorflow_obj_detect_api/google_obj_detection/research')\n",
    "sys.path.append('/workspace/yo/tensorflow_obj_detect_api/google_obj_detection/research/slim')\n",
    "import os\n",
    "import time\n",
    "import tensorflow as tf\n",
    "import numpy as np\n",
    "from PIL import Image\n",
    "import matplotlib.pyplot as plt\n",
    "from object_detection.utils import label_map_util\n",
    "from object_detection.utils import visualization_utils as vis_util\n",
    "# if len(sys.argv) < 3:\n",
    "#     print('Usage: python {} test_image_path checkpoint_path'.format(sys.argv[0]))\n",
    "#     exit()\n",
    "# PATH_TEST_IMAGE = sys.argv[1]\n",
    "# PATH_TO_CKPT = sys.argv[2]\n",
    "PATH_TEST_IMAGE = '/workspace/datasets/BDD100k/VOC_test/JPEGImages/c0ddc0e1-c0c70d00.jpg'\n",
    "PATH_TO_CKPT = '../output/frozen_inference_graph.pb'\n",
    "PATH_TO_LABELS = '../label/label_map.pbtxtx'\n",
    "NUM_CLASSES = 7\n",
    "IMAGE_SIZE = (18, 12)\n",
    "label_map = label_map_util.load_labelmap(PATH_TO_LABELS)\n",
    "categories = label_map_util.convert_label_map_to_categories(\n",
    "    label_map, max_num_classes=NUM_CLASSES, use_display_name=True)\n",
    "category_index = label_map_util.create_category_index(categories)\n",
    "detection_graph = tf.Graph()\n",
    "with detection_graph.as_default():\n",
    "    od_graph_def = tf.GraphDef()\n",
    "    with tf.gfile.GFile(PATH_TO_CKPT, 'rb') as fid:\n",
    "        serialized_graph = fid.read()\n",
    "        od_graph_def.ParseFromString(serialized_graph)\n",
    "        tf.import_graph_def(od_graph_def, name='')\n",
    "config = tf.ConfigProto()\n",
    "config.gpu_options.allow_growth = True\n",
    "with detection_graph.as_default():\n",
    "    with tf.Session(graph=detection_graph, config=config) as sess:\n",
    "        start_time = time.time()\n",
    "        print(time.ctime())\n",
    "        image = Image.open(PATH_TEST_IMAGE)\n",
    "        image_np = np.array(image).astype(np.uint8)\n",
    "        image_np_expanded = np.expand_dims(image_np, axis=0)\n",
    "        image_tensor = detection_graph.get_tensor_by_name('image_tensor:0')\n",
    "        boxes = detection_graph.get_tensor_by_name('detection_boxes:0')\n",
    "        scores = detection_graph.get_tensor_by_name('detection_scores:0')\n",
    "        classes = detection_graph.get_tensor_by_name('detection_classes:0')\n",
    "        num_detections = detection_graph.get_tensor_by_name('num_detections:0')\n",
    "        (boxes, scores, classes, num_detections) = sess.run(\n",
    "            [boxes, scores, classes, num_detections],\n",
    "            feed_dict={image_tensor: image_np_expanded})\n",
    "        print('{} elapsed time: {:.3f}s'.format(time.ctime(), time.time() - start_time))\n",
    "        vis_util.visualize_boxes_and_labels_on_image_array(\n",
    "            image_np, np.squeeze(boxes), np.squeeze(classes).astype(np.int32), np.squeeze(scores),\n",
    "            category_index, use_normalized_coordinates=True, line_thickness=8)\n",
    "        plt.figure(figsize=IMAGE_SIZE)\n",
    "        im = Image.fromarray(image_np)\n",
    "        im.save(\"books_read.png\")"
   ]
  },
  {
   "cell_type": "code",
   "execution_count": null,
   "metadata": {},
   "outputs": [],
   "source": []
  }
 ],
 "metadata": {
  "kernelspec": {
   "display_name": "Python 3",
   "language": "python",
   "name": "python3"
  },
  "language_info": {
   "codemirror_mode": {
    "name": "ipython",
    "version": 3
   },
   "file_extension": ".py",
   "mimetype": "text/x-python",
   "name": "python",
   "nbconvert_exporter": "python",
   "pygments_lexer": "ipython3",
   "version": "3.6.5"
  }
 },
 "nbformat": 4,
 "nbformat_minor": 2
}
